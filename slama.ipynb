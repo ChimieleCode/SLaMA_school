{
 "cells": [
  {
   "cell_type": "code",
   "execution_count": 1,
   "metadata": {},
   "outputs": [
    {
     "ename": "ImportError",
     "evalue": "cannot import name 'BasicSection' from 'src.sections' (c:\\Users\\michele.matteoni\\VSCProjects\\slama_school\\SLaMA_school\\src\\sections\\__init__.py)",
     "output_type": "error",
     "traceback": [
      "\u001b[1;31m---------------------------------------------------------------------------\u001b[0m",
      "\u001b[1;31mImportError\u001b[0m                               Traceback (most recent call last)",
      "Cell \u001b[1;32mIn[1], line 10\u001b[0m\n\u001b[0;32m      8\u001b[0m \u001b[38;5;28;01mfrom\u001b[39;00m \u001b[38;5;21;01msrc\u001b[39;00m\u001b[38;5;21;01m.\u001b[39;00m\u001b[38;5;21;01msteel\u001b[39;00m \u001b[38;5;28;01mimport\u001b[39;00m Steel   \u001b[38;5;66;03m# does not see the package\u001b[39;00m\n\u001b[0;32m      9\u001b[0m \u001b[38;5;28;01mfrom\u001b[39;00m \u001b[38;5;21;01msrc\u001b[39;00m\u001b[38;5;21;01m.\u001b[39;00m\u001b[38;5;21;01mconcrete\u001b[39;00m \u001b[38;5;28;01mimport\u001b[39;00m Concrete\n\u001b[1;32m---> 10\u001b[0m \u001b[38;5;28;01mfrom\u001b[39;00m \u001b[38;5;21;01msrc\u001b[39;00m\u001b[38;5;21;01m.\u001b[39;00m\u001b[38;5;21;01msections\u001b[39;00m \u001b[38;5;28;01mimport\u001b[39;00m BasicSection\n\u001b[0;32m     11\u001b[0m \u001b[38;5;28;01mfrom\u001b[39;00m \u001b[38;5;21;01msrc\u001b[39;00m\u001b[38;5;21;01m.\u001b[39;00m\u001b[38;5;21;01mframe\u001b[39;00m \u001b[38;5;28;01mimport\u001b[39;00m RegularFrameBuilder\n\u001b[0;32m     12\u001b[0m \u001b[38;5;28;01mfrom\u001b[39;00m \u001b[38;5;21;01msrc\u001b[39;00m\u001b[38;5;21;01m.\u001b[39;00m\u001b[38;5;21;01melements\u001b[39;00m \u001b[38;5;28;01mimport\u001b[39;00m BasicElement\n",
      "\u001b[1;31mImportError\u001b[0m: cannot import name 'BasicSection' from 'src.sections' (c:\\Users\\michele.matteoni\\VSCProjects\\slama_school\\SLaMA_school\\src\\sections\\__init__.py)"
     ]
    }
   ],
   "source": [
    "from pathlib import Path\n",
    "\n",
    "import numpy as np\n",
    "\n",
    "from model.enums import Direction, ElementType\n",
    "from model.validation import (Regular2DFrameInput, BasicSectionCollectionInput,\n",
    "                              SimpleMaterialInput, NTC2018HazardInput)\n",
    "from src.steel import Steel   # does not see the package\n",
    "from src.concrete import Concrete\n",
    "from src.sections import BasicSection\n",
    "from src.frame import RegularFrameBuilder\n",
    "from src.elements import BasicElement\n",
    "from src.subassembly import SubassemblyFactory\n",
    "from src.hazard import NTC2018SeismicHazard\n",
    "from src.frame.regular_frame import RegularFrame\n",
    "\n",
    "from src.scripts import convert_to_section_collection\n",
    "from src.utils import export_to_json, import_from_json\n",
    "from src.performance import compute_ISV, compute_ISD\n",
    "from src.capacity import (column_sidesway, beam_sidesway, mixed_sidesway,\n",
    "                          mixed_sidesway_sub_stiff, damaged_sidesway_sub_stiff, damaged_mixed_sidesway)"
   ]
  },
  {
   "cell_type": "code",
   "execution_count": 2,
   "metadata": {},
   "outputs": [],
   "source": [
    "# Import frame data\n",
    "frame_dct = import_from_json(Path('./Inputs/Frame.json'))\n",
    "# print(frame_dct)\n",
    "# Validate frame data\n",
    "validated_frame = Regular2DFrameInput(\n",
    "    **frame_dct\n",
    ")\n",
    "# Import section data\n",
    "sections_dct = import_from_json(Path('./Inputs/Sections.json'))\n",
    "# validate section data\n",
    "validated_sections = BasicSectionCollectionInput(\n",
    "    **sections_dct\n",
    ")\n",
    "# Import material data\n",
    "materials_dct = import_from_json(Path('./Inputs/Materials.json'))\n",
    "# Validate material data\n",
    "validated_materials = SimpleMaterialInput(\n",
    "    **materials_dct\n",
    ")"
   ]
  },
  {
   "cell_type": "code",
   "execution_count": 3,
   "metadata": {},
   "outputs": [],
   "source": [
    " # -o-o-o-o-o- MODEL BUILDING -o-o-o-o-o-\n",
    "\n",
    "# Instansiate material objects\n",
    "steel = Steel(**validated_materials.steel.__dict__)\n",
    "concrete = Concrete(**validated_materials.concrete.__dict__)\n",
    "# Instanciate Section Data and visitors\n",
    "sections = convert_to_section_collection(\n",
    "    validated_sections,\n",
    "    concrete,\n",
    "    steel,\n",
    "    section_type=BasicSection\n",
    ")\n",
    "# Build frame model\n",
    "frame_builder = RegularFrameBuilder(\n",
    "    frame_data=validated_frame,\n",
    "    sections=sections,\n",
    "    element_object=BasicElement\n",
    ")\n",
    "frame_builder.build_frame()\n",
    "frame = frame_builder.get_frame()\n",
    "# Get subassemblies\n",
    "subassemly_factory = SubassemblyFactory(frame=frame)"
   ]
  },
  {
   "cell_type": "code",
   "execution_count": 13,
   "metadata": {},
   "outputs": [
    {
     "name": "stdout",
     "output_type": "stream",
     "text": [
      "{'beam_equivalent': np.float64(221.5322132277796), 'rotation_yielding': np.float64(0.0025735374682920235), 'rotation_ultimate': np.float64(0.029772546812646003), 'element': <ElementType.LeftBeam: 'leftbeam'>}\n"
     ]
    },
    {
     "data": {
      "text/plain": [
       "(0.0, 2000.0)"
      ]
     },
     "execution_count": 13,
     "metadata": {},
     "output_type": "execute_result"
    },
    {
     "data": {
      "image/png": "[encoded data removed]",
      "text/plain": [
       "<Figure size 640x480 with 1 Axes>"
      ]
     },
     "metadata": {},
     "output_type": "display_data"
    }
   ],
   "source": [
    "import matplotlib.pyplot as plt\n",
    "subassembly = subassemly_factory.get_subassembly(13)\n",
    "\n",
    "print(subassembly.get_hierarchy(Direction.Negative))\n",
    "\n",
    "axials = np.linspace(0, 5000, 100)\n",
    "\n",
    "joint_capacity = [subassembly.domain_MN(ax) for ax in axials]\n",
    "column_capacity = [(subassembly.above_column.get_section().domain_MN(ax) + subassembly.below_column.get_section().domain_MN(ax))/2 for ax in axials]\n",
    "beam_capacity = [subassembly.left_beam.get_section().moment_curvature().mom_y/2] * 100\n",
    "delta_axial_pos = [subassembly.delta_axial_moment(axial) for axial in axials]\n",
    "\n",
    "delta_axial_neg = [subassembly.delta_axial_moment(axial, direction=Direction.Negative) for axial in axials]\n",
    "\n",
    "plt.plot(\n",
    "    axials,\n",
    "    joint_capacity,\n",
    "    label='join'\n",
    ")\n",
    "plt.plot(\n",
    "    axials,\n",
    "    column_capacity,\n",
    "    label='join'\n",
    ")\n",
    "plt.plot(\n",
    "    axials,\n",
    "    beam_capacity,\n",
    "    label='join'\n",
    ")\n",
    "plt.plot(\n",
    "    axials,\n",
    "    delta_axial_pos,\n",
    "    label='join'\n",
    ")\n",
    "plt.plot(\n",
    "    axials,\n",
    "    delta_axial_neg,\n",
    "    label='join'\n",
    ")\n",
    "plt.ylim(0, 2000)"
   ]
  },
  {
   "cell_type": "code",
   "execution_count": 5,
   "metadata": {},
   "outputs": [
    {
     "name": "stdout",
     "output_type": "stream",
     "text": [
      "FrameCapacity(name='Mixed Sidesway', mass=np.float64(1249.6782223050138), disp=[np.float64(0.05265598812389821), np.float64(0.08727680347429527)], base_shear=[np.float64(1150.4866622370614), np.float64(1150.4866622370614)])\n",
      "32.90653766086163\n"
     ]
    },
    {
     "name": "stderr",
     "output_type": "stream",
     "text": [
      "c:\\Users\\michele.matteoni\\VSCProjects\\slama_school\\SLaMA_school\\src\\utils.py:53: RuntimeWarning: The iteration is not making good progress, as measured by the \n",
      "  improvement from the last five Jacobian evaluations.\n",
      "  return fsolve(difference_function, initial_guess)[0]\n",
      "c:\\Users\\michele.matteoni\\VSCProjects\\slama_school\\SLaMA_school\\src\\utils.py:53: RuntimeWarning: The iteration is not making good progress, as measured by the \n",
      "  improvement from the last ten iterations.\n",
      "  return fsolve(difference_function, initial_guess)[0]\n"
     ]
    }
   ],
   "source": [
    "# Compute capacity\n",
    "beam_SLaMA = beam_sidesway(\n",
    "    sub_factory=subassemly_factory,\n",
    "    frame=frame\n",
    ")\n",
    "# print(beam_SLaMA)\n",
    "column_SLaMA = column_sidesway(\n",
    "    sub_factory=subassemly_factory,\n",
    "    frame=frame\n",
    ")\n",
    "# print(column_SLaMA)\n",
    "classic_SLaMA = mixed_sidesway(\n",
    "    sub_factory=subassemly_factory,\n",
    "    frame=frame\n",
    ")\n",
    "print(classic_SLaMA)\n",
    "print(frame.forces_effective_height)"
   ]
  },
  {
   "cell_type": "code",
   "execution_count": 6,
   "metadata": {},
   "outputs": [],
   "source": [
    "height_ratio = frame.get_heights()[-1]/frame.forces_effective_height\n",
    "\n",
    "base_shear = np.array([0] + classic_SLaMA.base_shear) * 2.33\n",
    "displacements = np.array([0] + classic_SLaMA.disp) * height_ratio"
   ]
  },
  {
   "cell_type": "code",
   "execution_count": 7,
   "metadata": {},
   "outputs": [
    {
     "data": {
      "text/plain": [
       "(0.0, 2814.665619162971)"
      ]
     },
     "execution_count": 7,
     "metadata": {},
     "output_type": "execute_result"
    },
    {
     "data": {
      "image/png": "[encoded data removed]",
      "text/plain": [
       "<Figure size 640x480 with 1 Axes>"
      ]
     },
     "metadata": {},
     "output_type": "display_data"
    }
   ],
   "source": [
    "from turtle import left\n",
    "import matplotlib.pyplot as plt\n",
    "\n",
    "plt.plot(\n",
    "       displacements,\n",
    "       base_shear \n",
    ")\n",
    "plt.xlim(left=0)\n",
    "plt.ylim(bottom=0)"
   ]
  },
  {
   "cell_type": "code",
   "execution_count": 8,
   "metadata": {},
   "outputs": [],
   "source": [
    "node_count = frame.get_nodes()"
   ]
  },
  {
   "cell_type": "code",
   "execution_count": 9,
   "metadata": {},
   "outputs": [],
   "source": [
    "subs = [subassemly_factory.get_subassembly(i) for i in node_count]"
   ]
  },
  {
   "cell_type": "code",
   "execution_count": 10,
   "metadata": {},
   "outputs": [
    {
     "name": "stdout",
     "output_type": "stream",
     "text": [
      "0.0025805307766297737\n",
      "0.002524584309927773\n",
      "0.002524584309927773\n",
      "0.002524584309927773\n",
      "0.002524584309927773\n",
      "0.0025735374682920235\n",
      "0.001600167986877762\n",
      "0.0025805307766297737\n",
      "0.002524584309927773\n",
      "0.002524584309927773\n",
      "0.002524584309927773\n",
      "0.002524584309927773\n",
      "0.0025735374682920235\n",
      "0.001605236866660754\n",
      "0.0028435246564277594\n",
      "0.0028052022217050134\n",
      "0.0028052022217050134\n",
      "0.0028052022217050134\n",
      "0.0028052022217050134\n",
      "0.0028435246564277594\n",
      "0.0026522633396980117\n",
      "0.002822526232284481\n",
      "0.002784486795191698\n",
      "0.002784486795191698\n",
      "0.002784486795191698\n",
      "0.002784486795191698\n",
      "0.002822526232284481\n",
      "0.0026695430518166685\n",
      "0.002847358164352856\n",
      "0.0028094943589758235\n",
      "0.0028094943589758235\n",
      "0.0028094943589758235\n",
      "0.0028094943589758235\n",
      "0.002847358164352856\n",
      "0.00275314345605107\n",
      "0.002829429815022643\n",
      "0.002791804418546278\n",
      "0.002791804418546278\n",
      "0.002791804418546278\n",
      "0.002791804418546278\n",
      "0.002829429815022643\n",
      "0.002876945847947861\n",
      "0.0028502257199491746\n",
      "0.002812821182941967\n",
      "0.002812821182941967\n",
      "0.002812821182941967\n",
      "0.002812821182941967\n",
      "0.0028502257199491746\n",
      "0.0029982232680806006\n",
      "0.0030970175654592533\n",
      "0.0030563742903219927\n",
      "0.0030563742903219927\n",
      "0.0030563742903219927\n",
      "0.0030563742903219927\n",
      "0.0030970175654592533\n",
      "0.0032943300150471456\n",
      "0.003111921680490071\n",
      "0.00307161181416248\n",
      "0.00307161181416248\n",
      "0.00307161181416248\n",
      "0.00307161181416248\n",
      "0.003111921680490071\n",
      "0.0033117437289622055\n",
      "0.0030771097929137314\n",
      "0.003037250857772362\n",
      "0.003037250857772362\n",
      "0.003037250857772362\n",
      "0.003037250857772362\n",
      "0.0030771097929137314\n",
      "0.003259998781882429\n",
      "0.003388840991572068\n",
      "0.0033455054290199957\n",
      "0.0033455054290199957\n",
      "0.0033455054290199957\n",
      "0.0033455054290199957\n",
      "0.003388840991572068\n",
      "0.0036392543371142013\n",
      "0.0033590648904180936\n",
      "0.0033334882541966363\n",
      "0.0033334882541966363\n",
      "0.0033334882541966363\n",
      "0.0033334882541966363\n",
      "0.0033505393450109413\n",
      "0.005975234513194194\n",
      "0.0037640957190237107\n",
      "0.0037357942474521033\n",
      "0.0037357942474521033\n",
      "0.0037357942474521033\n",
      "0.0037357942474521033\n",
      "0.003754661895166508\n",
      "0.005675781109949312\n",
      "0.004237972441914576\n",
      "0.00420610798746409\n",
      "0.00420610798746409\n",
      "0.00420610798746409\n",
      "0.00420610798746409\n",
      "0.004227350957097747\n",
      "0.0075\n",
      "0.004164341716410599\n",
      "0.004164341716410599\n",
      "0.004164341716410599\n",
      "0.004164341716410599\n",
      "0.004164341716410599\n",
      "0.004164341716410599\n",
      "0.0075\n",
      "0.00484331986860127\n",
      "0.0050662432893115025\n",
      "0.0050662432893115025\n",
      "0.0050662432893115025\n",
      "0.0050662432893115025\n",
      "0.0050662432893115025\n",
      "0.004939873556353423\n"
     ]
    }
   ],
   "source": [
    "from model.enums import NodeType\n",
    "\n",
    "for i, sub in enumerate(subs):\n",
    "    if sub.node_type is NodeType.Base:\n",
    "        continue\n",
    "    print(sub.get_hierarchy().get('rotation_yielding'))"
   ]
  }
 ],
 "metadata": {
  "kernelspec": {
   "display_name": ".venv",
   "language": "python",
   "name": "python3"
  },
  "language_info": {
   "codemirror_mode": {
    "name": "ipython",
    "version": 3
   },
   "file_extension": ".py",
   "mimetype": "text/x-python",
   "name": "python",
   "nbconvert_exporter": "python",
   "pygments_lexer": "ipython3",
   "version": "3.11.9"
  }
 },
 "nbformat": 4,
 "nbformat_minor": 2
}
